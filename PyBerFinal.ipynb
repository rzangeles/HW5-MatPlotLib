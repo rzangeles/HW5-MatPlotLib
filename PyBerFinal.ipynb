{
 "cells": [
  {
   "cell_type": "code",
   "execution_count": 1,
   "metadata": {
    "collapsed": true
   },
   "outputs": [],
   "source": [
    "# Dependencies\n",
    "\n",
    "import matplotlib.pyplot as plt\n",
    "import scipy.stats as stats\n",
    "import os\n",
    "import numpy as np\n",
    "import pandas as pd"
   ]
  },
  {
   "cell_type": "code",
   "execution_count": 2,
   "metadata": {},
   "outputs": [
    {
     "data": {
      "text/html": [
       "<div>\n",
       "<style>\n",
       "    .dataframe thead tr:only-child th {\n",
       "        text-align: right;\n",
       "    }\n",
       "\n",
       "    .dataframe thead th {\n",
       "        text-align: left;\n",
       "    }\n",
       "\n",
       "    .dataframe tbody tr th {\n",
       "        vertical-align: top;\n",
       "    }\n",
       "</style>\n",
       "<table border=\"1\" class=\"dataframe\">\n",
       "  <thead>\n",
       "    <tr style=\"text-align: right;\">\n",
       "      <th></th>\n",
       "      <th>city</th>\n",
       "      <th>date</th>\n",
       "      <th>fare</th>\n",
       "      <th>ride_id</th>\n",
       "    </tr>\n",
       "  </thead>\n",
       "  <tbody>\n",
       "    <tr>\n",
       "      <th>0</th>\n",
       "      <td>Sarabury</td>\n",
       "      <td>2016-01-16 13:49:27</td>\n",
       "      <td>38.35</td>\n",
       "      <td>5403689035038</td>\n",
       "    </tr>\n",
       "    <tr>\n",
       "      <th>1</th>\n",
       "      <td>South Roy</td>\n",
       "      <td>2016-01-02 18:42:34</td>\n",
       "      <td>17.49</td>\n",
       "      <td>4036272335942</td>\n",
       "    </tr>\n",
       "    <tr>\n",
       "      <th>2</th>\n",
       "      <td>Wiseborough</td>\n",
       "      <td>2016-01-21 17:35:29</td>\n",
       "      <td>44.18</td>\n",
       "      <td>3645042422587</td>\n",
       "    </tr>\n",
       "    <tr>\n",
       "      <th>3</th>\n",
       "      <td>Spencertown</td>\n",
       "      <td>2016-07-31 14:53:22</td>\n",
       "      <td>6.87</td>\n",
       "      <td>2242596575892</td>\n",
       "    </tr>\n",
       "    <tr>\n",
       "      <th>4</th>\n",
       "      <td>Nguyenbury</td>\n",
       "      <td>2016-07-09 04:42:44</td>\n",
       "      <td>6.28</td>\n",
       "      <td>1543057793673</td>\n",
       "    </tr>\n",
       "  </tbody>\n",
       "</table>\n",
       "</div>"
      ],
      "text/plain": [
       "          city                 date   fare        ride_id\n",
       "0     Sarabury  2016-01-16 13:49:27  38.35  5403689035038\n",
       "1    South Roy  2016-01-02 18:42:34  17.49  4036272335942\n",
       "2  Wiseborough  2016-01-21 17:35:29  44.18  3645042422587\n",
       "3  Spencertown  2016-07-31 14:53:22   6.87  2242596575892\n",
       "4   Nguyenbury  2016-07-09 04:42:44   6.28  1543057793673"
      ]
     },
     "execution_count": 2,
     "metadata": {},
     "output_type": "execute_result"
    }
   ],
   "source": [
    "# Import the required files\n",
    "\n",
    "path = os.path.join('Resources', 'city_data.csv')\n",
    "city_data = pd.read_csv(path)\n",
    "city_data.head()\n",
    "\n",
    "path2 = os.path.join('Resources', 'ride_data.csv')\n",
    "ride_data = pd.read_csv(path2)\n",
    "ride_data.head()\n"
   ]
  },
  {
   "cell_type": "code",
   "execution_count": 3,
   "metadata": {},
   "outputs": [
    {
     "data": {
      "text/plain": [
       "city            126\n",
       "driver_count    126\n",
       "type            126\n",
       "dtype: int64"
      ]
     },
     "execution_count": 3,
     "metadata": {},
     "output_type": "execute_result"
    }
   ],
   "source": [
    "city_data.head()\n",
    "city_data.count()"
   ]
  },
  {
   "cell_type": "code",
   "execution_count": 4,
   "metadata": {},
   "outputs": [
    {
     "data": {
      "text/html": [
       "<div>\n",
       "<style>\n",
       "    .dataframe thead tr:only-child th {\n",
       "        text-align: right;\n",
       "    }\n",
       "\n",
       "    .dataframe thead th {\n",
       "        text-align: left;\n",
       "    }\n",
       "\n",
       "    .dataframe tbody tr th {\n",
       "        vertical-align: top;\n",
       "    }\n",
       "</style>\n",
       "<table border=\"1\" class=\"dataframe\">\n",
       "  <thead>\n",
       "    <tr style=\"text-align: right;\">\n",
       "      <th></th>\n",
       "      <th>city</th>\n",
       "      <th>Average Fare</th>\n",
       "    </tr>\n",
       "  </thead>\n",
       "  <tbody>\n",
       "    <tr>\n",
       "      <th>0</th>\n",
       "      <td>Alvarezhaven</td>\n",
       "      <td>23.928710</td>\n",
       "    </tr>\n",
       "    <tr>\n",
       "      <th>1</th>\n",
       "      <td>Alyssaberg</td>\n",
       "      <td>20.609615</td>\n",
       "    </tr>\n",
       "    <tr>\n",
       "      <th>2</th>\n",
       "      <td>Anitamouth</td>\n",
       "      <td>37.315556</td>\n",
       "    </tr>\n",
       "    <tr>\n",
       "      <th>3</th>\n",
       "      <td>Antoniomouth</td>\n",
       "      <td>23.625000</td>\n",
       "    </tr>\n",
       "    <tr>\n",
       "      <th>4</th>\n",
       "      <td>Aprilchester</td>\n",
       "      <td>21.981579</td>\n",
       "    </tr>\n",
       "  </tbody>\n",
       "</table>\n",
       "</div>"
      ],
      "text/plain": [
       "           city  Average Fare\n",
       "0  Alvarezhaven     23.928710\n",
       "1    Alyssaberg     20.609615\n",
       "2    Anitamouth     37.315556\n",
       "3  Antoniomouth     23.625000\n",
       "4  Aprilchester     21.981579"
      ]
     },
     "execution_count": 4,
     "metadata": {},
     "output_type": "execute_result"
    }
   ],
   "source": [
    "#By City Plots (Bubble Plots)\n",
    "#Average Fare per City \n",
    "\n",
    "bycityavg = ride_data.groupby(\"city\").mean()\n",
    "bycityavg.head()\n",
    "bycityavgrev = bycityavg.reset_index()\n",
    "bycityavgrev = bycityavgrev.rename(columns={\"fare\":\"Average Fare\"})\n",
    "bycityavgrev = bycityavgrev[[\"city\", \"Average Fare\"]]\n",
    "bycityavgrev.head()"
   ]
  },
  {
   "cell_type": "code",
   "execution_count": 5,
   "metadata": {},
   "outputs": [
    {
     "data": {
      "text/html": [
       "<div>\n",
       "<style>\n",
       "    .dataframe thead tr:only-child th {\n",
       "        text-align: right;\n",
       "    }\n",
       "\n",
       "    .dataframe thead th {\n",
       "        text-align: left;\n",
       "    }\n",
       "\n",
       "    .dataframe tbody tr th {\n",
       "        vertical-align: top;\n",
       "    }\n",
       "</style>\n",
       "<table border=\"1\" class=\"dataframe\">\n",
       "  <thead>\n",
       "    <tr style=\"text-align: right;\">\n",
       "      <th></th>\n",
       "      <th>city</th>\n",
       "      <th>Total Rides</th>\n",
       "    </tr>\n",
       "  </thead>\n",
       "  <tbody>\n",
       "    <tr>\n",
       "      <th>0</th>\n",
       "      <td>Alvarezhaven</td>\n",
       "      <td>31</td>\n",
       "    </tr>\n",
       "    <tr>\n",
       "      <th>1</th>\n",
       "      <td>Alyssaberg</td>\n",
       "      <td>26</td>\n",
       "    </tr>\n",
       "    <tr>\n",
       "      <th>2</th>\n",
       "      <td>Anitamouth</td>\n",
       "      <td>9</td>\n",
       "    </tr>\n",
       "    <tr>\n",
       "      <th>3</th>\n",
       "      <td>Antoniomouth</td>\n",
       "      <td>22</td>\n",
       "    </tr>\n",
       "    <tr>\n",
       "      <th>4</th>\n",
       "      <td>Aprilchester</td>\n",
       "      <td>19</td>\n",
       "    </tr>\n",
       "  </tbody>\n",
       "</table>\n",
       "</div>"
      ],
      "text/plain": [
       "           city  Total Rides\n",
       "0  Alvarezhaven           31\n",
       "1    Alyssaberg           26\n",
       "2    Anitamouth            9\n",
       "3  Antoniomouth           22\n",
       "4  Aprilchester           19"
      ]
     },
     "execution_count": 5,
     "metadata": {},
     "output_type": "execute_result"
    }
   ],
   "source": [
    "#Total Counts of Ride per City\n",
    "\n",
    "bycitytotal = ride_data.groupby(\"city\").count()\n",
    "bycitytotal = bycitytotal[[\"date\"]]\n",
    "bycitytotal = bycitytotal.rename(columns={\"date\":\"Total Rides\"})\n",
    "bycitytotalrev = bycitytotal.reset_index()\n",
    "\n",
    "bycitytotalrev.head()"
   ]
  },
  {
   "cell_type": "code",
   "execution_count": 6,
   "metadata": {},
   "outputs": [
    {
     "data": {
      "text/html": [
       "<div>\n",
       "<style>\n",
       "    .dataframe thead tr:only-child th {\n",
       "        text-align: right;\n",
       "    }\n",
       "\n",
       "    .dataframe thead th {\n",
       "        text-align: left;\n",
       "    }\n",
       "\n",
       "    .dataframe tbody tr th {\n",
       "        vertical-align: top;\n",
       "    }\n",
       "</style>\n",
       "<table border=\"1\" class=\"dataframe\">\n",
       "  <thead>\n",
       "    <tr style=\"text-align: right;\">\n",
       "      <th></th>\n",
       "      <th>city</th>\n",
       "      <th>driver_count</th>\n",
       "      <th>type</th>\n",
       "      <th>Average Fare</th>\n",
       "      <th>Total Rides</th>\n",
       "    </tr>\n",
       "  </thead>\n",
       "  <tbody>\n",
       "    <tr>\n",
       "      <th>0</th>\n",
       "      <td>Kelseyland</td>\n",
       "      <td>63</td>\n",
       "      <td>Urban</td>\n",
       "      <td>21.806429</td>\n",
       "      <td>28</td>\n",
       "    </tr>\n",
       "    <tr>\n",
       "      <th>1</th>\n",
       "      <td>Nguyenbury</td>\n",
       "      <td>8</td>\n",
       "      <td>Urban</td>\n",
       "      <td>25.899615</td>\n",
       "      <td>26</td>\n",
       "    </tr>\n",
       "    <tr>\n",
       "      <th>2</th>\n",
       "      <td>East Douglas</td>\n",
       "      <td>12</td>\n",
       "      <td>Urban</td>\n",
       "      <td>26.169091</td>\n",
       "      <td>22</td>\n",
       "    </tr>\n",
       "    <tr>\n",
       "      <th>3</th>\n",
       "      <td>West Dawnfurt</td>\n",
       "      <td>34</td>\n",
       "      <td>Urban</td>\n",
       "      <td>22.330345</td>\n",
       "      <td>29</td>\n",
       "    </tr>\n",
       "    <tr>\n",
       "      <th>4</th>\n",
       "      <td>Rodriguezburgh</td>\n",
       "      <td>52</td>\n",
       "      <td>Urban</td>\n",
       "      <td>21.332609</td>\n",
       "      <td>23</td>\n",
       "    </tr>\n",
       "  </tbody>\n",
       "</table>\n",
       "</div>"
      ],
      "text/plain": [
       "             city  driver_count   type  Average Fare  Total Rides\n",
       "0      Kelseyland            63  Urban     21.806429           28\n",
       "1      Nguyenbury             8  Urban     25.899615           26\n",
       "2    East Douglas            12  Urban     26.169091           22\n",
       "3   West Dawnfurt            34  Urban     22.330345           29\n",
       "4  Rodriguezburgh            52  Urban     21.332609           23"
      ]
     },
     "execution_count": 6,
     "metadata": {},
     "output_type": "execute_result"
    }
   ],
   "source": [
    "#Merge the required data frames\n",
    "\n",
    "mergedata_df = city_data.merge(bycityavgrev, how=\"outer\", on=\"city\")\n",
    "mergedatafinal_df = mergedata_df.merge(bycitytotalrev, how=\"outer\", on=\"city\")\n",
    "mergedatafinal_df.head()"
   ]
  },
  {
   "cell_type": "code",
   "execution_count": 15,
   "metadata": {},
   "outputs": [
    {
     "name": "stderr",
     "output_type": "stream",
     "text": [
      "/anaconda3/envs/PythonData/lib/python3.6/site-packages/ipykernel/__main__.py:9: SettingWithCopyWarning: \n",
      "A value is trying to be set on a copy of a slice from a DataFrame.\n",
      "Try using .loc[row_indexer,col_indexer] = value instead\n",
      "\n",
      "See the caveats in the documentation: http://pandas.pydata.org/pandas-docs/stable/indexing.html#indexing-view-versus-copy\n",
      "/anaconda3/envs/PythonData/lib/python3.6/site-packages/ipykernel/__main__.py:15: SettingWithCopyWarning: \n",
      "A value is trying to be set on a copy of a slice from a DataFrame.\n",
      "Try using .loc[row_indexer,col_indexer] = value instead\n",
      "\n",
      "See the caveats in the documentation: http://pandas.pydata.org/pandas-docs/stable/indexing.html#indexing-view-versus-copy\n",
      "/anaconda3/envs/PythonData/lib/python3.6/site-packages/ipykernel/__main__.py:21: SettingWithCopyWarning: \n",
      "A value is trying to be set on a copy of a slice from a DataFrame.\n",
      "Try using .loc[row_indexer,col_indexer] = value instead\n",
      "\n",
      "See the caveats in the documentation: http://pandas.pydata.org/pandas-docs/stable/indexing.html#indexing-view-versus-copy\n"
     ]
    },
    {
     "data": {
      "image/png": "[encoded data removed]",
      "text/plain": [
       "<matplotlib.figure.Figure at 0x1a184c55c0>"
      ]
     },
     "metadata": {},
     "output_type": "display_data"
    }
   ],
   "source": [
    "avgfare = mergedatafinal_df[\"Average Fare\"]\n",
    "totalrides = mergedatafinal_df[\"Total Rides\"]\n",
    "drivercount = mergedatafinal_df[\"driver_count\"]\n",
    "city_type = mergedatafinal_df[\"type\"]\n",
    "\n",
    "#Identify Urban cities and assign color Light Coral\n",
    "\n",
    "urbancity = mergedatafinal_df.loc[mergedatafinal_df[\"type\"]==\"Urban\"]\n",
    "urbancity[\"Color\"]=\"lightcoral\"\n",
    "urbancity = urbancity[[\"city\", \"Color\"]]\n",
    "\n",
    "#Identify Urban cities and assign color Light Sky Blue\n",
    "\n",
    "suburbancity = mergedatafinal_df.loc[mergedatafinal_df[\"type\"]==\"Suburban\"]\n",
    "suburbancity[\"Color\"]=\"lightskyblue\"\n",
    "suburbancity = suburbancity[[\"city\", \"Color\"]]\n",
    "\n",
    "#Identify Urban cities and assign color Gold\n",
    "\n",
    "ruralcity = mergedatafinal_df.loc[mergedatafinal_df[\"type\"]==\"Rural\"]\n",
    "ruralcity[\"Color\"]=\"gold\"\n",
    "ruralcity = ruralcity[[\"city\", \"Color\"]]\n",
    "\n",
    "#Concatinate the data files\n",
    "\n",
    "temp1_df = pd.concat([urbancity, suburbancity, ruralcity])\n",
    "temp1_df\n",
    "\n",
    "mergedatafinalcolor = mergedatafinal_df\n",
    "cityfinal_df = mergedatafinalcolor.merge(temp1_df, how=\"outer\", on=\"city\")\n",
    "cityfinal_df.head()\n",
    "\n",
    "colors = cityfinal_df[\"Color\"]\n",
    "city_type2 = cityfinal_df[\"type\"]\n",
    "\n",
    "#Plot scatter plot data\n",
    "\n",
    "plt.scatter(totalrides, avgfare, marker=\"o\", sizes=drivercount, \n",
    "            facecolor=colors, edgecolors=\"black\", \n",
    "            alpha=0.75)\n",
    "plt.title(\"PyBer Ride Sharing Data\")\n",
    "plt.ylabel(\"Total Rides per City\")\n",
    "plt.xlabel(\"Average Fare per City\")\n",
    "#plt.legend(handles=[city_type],\n",
    "#         loc=\"best\")\n",
    "plt.grid()\n",
    "\n",
    "#Save the file image\n",
    "plt.savefig(\"PyberScatter.png\")\n",
    "\n",
    "#Show the plot\n",
    "plt.show()\n"
   ]
  },
  {
   "cell_type": "code",
   "execution_count": 17,
   "metadata": {},
   "outputs": [
    {
     "data": {
      "text/html": [
       "<div>\n",
       "<style>\n",
       "    .dataframe thead tr:only-child th {\n",
       "        text-align: right;\n",
       "    }\n",
       "\n",
       "    .dataframe thead th {\n",
       "        text-align: left;\n",
       "    }\n",
       "\n",
       "    .dataframe tbody tr th {\n",
       "        vertical-align: top;\n",
       "    }\n",
       "</style>\n",
       "<table border=\"1\" class=\"dataframe\">\n",
       "  <thead>\n",
       "    <tr style=\"text-align: right;\">\n",
       "      <th></th>\n",
       "      <th>city</th>\n",
       "      <th>Total Fares</th>\n",
       "    </tr>\n",
       "  </thead>\n",
       "  <tbody>\n",
       "    <tr>\n",
       "      <th>0</th>\n",
       "      <td>Alvarezhaven</td>\n",
       "      <td>741.79</td>\n",
       "    </tr>\n",
       "    <tr>\n",
       "      <th>1</th>\n",
       "      <td>Alyssaberg</td>\n",
       "      <td>535.85</td>\n",
       "    </tr>\n",
       "    <tr>\n",
       "      <th>2</th>\n",
       "      <td>Anitamouth</td>\n",
       "      <td>335.84</td>\n",
       "    </tr>\n",
       "    <tr>\n",
       "      <th>3</th>\n",
       "      <td>Antoniomouth</td>\n",
       "      <td>519.75</td>\n",
       "    </tr>\n",
       "    <tr>\n",
       "      <th>4</th>\n",
       "      <td>Aprilchester</td>\n",
       "      <td>417.65</td>\n",
       "    </tr>\n",
       "  </tbody>\n",
       "</table>\n",
       "</div>"
      ],
      "text/plain": [
       "           city  Total Fares\n",
       "0  Alvarezhaven       741.79\n",
       "1    Alyssaberg       535.85\n",
       "2    Anitamouth       335.84\n",
       "3  Antoniomouth       519.75\n",
       "4  Aprilchester       417.65"
      ]
     },
     "execution_count": 17,
     "metadata": {},
     "output_type": "execute_result"
    }
   ],
   "source": [
    "#Pie Charts by City type\n",
    "\n",
    "#Total Fares by City\n",
    "\n",
    "ride_data.head()\n",
    "\n",
    "faretotalcity_df = ride_data.groupby(\"city\").sum()\n",
    "faretotalcityrev_df = faretotalcity_df.reset_index()\n",
    "faretotalcityrev_df = faretotalcityrev_df[[\"city\",\"fare\"]]\n",
    "faretotalcityrev_df = faretotalcityrev_df.rename(columns={\"fare\":\"Total Fares\"})\n",
    "faretotalcityrev_df.head()"
   ]
  },
  {
   "cell_type": "code",
   "execution_count": 18,
   "metadata": {},
   "outputs": [
    {
     "data": {
      "image/png": "[encoded data removed]",
      "text/plain": [
       "<matplotlib.figure.Figure at 0x110e6b198>"
      ]
     },
     "metadata": {},
     "output_type": "display_data"
    }
   ],
   "source": [
    "#Merge data with city_data\n",
    "\n",
    "mergedatafinal2_df = mergedata_df.merge(faretotalcityrev_df, how=\"outer\", on=\"city\")\n",
    "totalfares = mergedatafinal2_df[\"Total Fares\"]\n",
    "mergedatafinal2_df.head()\n",
    "\n",
    "bycitytotalfares = mergedatafinal2_df.groupby(\"type\").sum()\n",
    "bycitytotalfaresrev = bycitytotalfares.reset_index()\n",
    "bycitytotalfaresrev = bycitytotalfaresrev[[\"type\", \"Total Fares\"]]\n",
    "bycitytotalfaresrev\n",
    "\n",
    "city_type = bycitytotalfaresrev[\"type\"]\n",
    "total_fares_type = bycitytotalfaresrev[\"Total Fares\"]\n",
    "\n",
    "#plot the pie charts\n",
    "#plot the % of Total Fares by City Type\n",
    "\n",
    "colors = [\"gold\", \"lightskyblue\", \"lightcoral\"]\n",
    "explode = [0, 0, 0.15]\n",
    "plt.axis(\"equal\")\n",
    "\n",
    "plt.pie(total_fares_type, labels=city_type, colors=colors, explode=explode,\n",
    "        autopct=\"{0:1.1f}%\".format, shadow=True, startangle=140)\n",
    "plt.title(\"% of Total Fares by City Type\")\n",
    "plt.savefig(\"TotalFaresPie.png\")\n",
    "plt.show()"
   ]
  },
  {
   "cell_type": "code",
   "execution_count": 20,
   "metadata": {},
   "outputs": [
    {
     "data": {
      "image/png": "[encoded data removed]",
      "text/plain": [
       "<matplotlib.figure.Figure at 0x10fd2b7b8>"
      ]
     },
     "metadata": {},
     "output_type": "display_data"
    }
   ],
   "source": [
    "#plot the % of Total Rides by City Type\n",
    "\n",
    "mergedatafinal_df.head()\n",
    "\n",
    "bycitytotalrides = mergedatafinal_df.groupby(\"type\").sum()\n",
    "bycitytotalridesrev = bycitytotalrides.reset_index()\n",
    "bycitytotalridesrev = bycitytotalridesrev[[\"type\", \"Total Rides\"]]\n",
    "bycitytotalridesrev\n",
    "\n",
    "city_type_rides = bycitytotalridesrev[\"type\"]\n",
    "totalrides = bycitytotalridesrev[\"Total Rides\"]\n",
    "\n",
    "#plot the pie chart\n",
    "#plot the % of Total Rides by City Type\n",
    "\n",
    "colors = [\"gold\", \"lightskyblue\", \"lightcoral\"]\n",
    "explode = [0, 0, 0.15]\n",
    "plt.axis(\"equal\")\n",
    "\n",
    "plt.pie(totalrides, labels=city_type_rides, colors=colors, explode=explode,\n",
    "        autopct=\"{0:1.1f}%\".format, shadow=True, startangle=140)\n",
    "plt.title(\"% of Total Rides by City Type\")\n",
    "plt.savefig(\"TotalRidesPie.png\")\n",
    "plt.show()"
   ]
  },
  {
   "cell_type": "code",
   "execution_count": 21,
   "metadata": {
    "scrolled": true
   },
   "outputs": [
    {
     "data": {
      "image/png": "[encoded data removed]",
      "text/plain": [
       "<matplotlib.figure.Figure at 0x1a213ccf28>"
      ]
     },
     "metadata": {},
     "output_type": "display_data"
    }
   ],
   "source": [
    "#plot the % of Total Rides by Total Drivers\n",
    "\n",
    "mergedatafinal_df.head()\n",
    "\n",
    "bycitytotaldriver = mergedatafinal_df.groupby(\"type\").sum()\n",
    "bycitytotaldriverrev = bycitytotaldriver.reset_index()\n",
    "bycitytotaldriverrev = bycitytotaldriverrev[[\"type\", \"driver_count\"]]\n",
    "bycitytotaldriverrev\n",
    "\n",
    "city_type_driver = bycitytotaldriverrev[\"type\"]\n",
    "totaldriver = bycitytotaldriverrev[\"driver_count\"]\n",
    "\n",
    "#plot the pie chart\n",
    "#plot the % of Total Rides by City Type\n",
    "\n",
    "colors = [\"gold\", \"lightskyblue\", \"lightcoral\"]\n",
    "explode = [0, 0, 0.15]\n",
    "plt.axis(\"equal\")\n",
    "\n",
    "plt.pie(totaldriver, labels=city_type_driver, colors=colors, explode=explode,\n",
    "        autopct=\"{0:1.1f}%\".format, shadow=True, startangle=140)\n",
    "plt.title(\"% of Total Drivers by City Type\")\n",
    "plt.savefig(\"TotalDriversPie.png\")\n",
    "plt.show()"
   ]
  },
  {
   "cell_type": "code",
   "execution_count": null,
   "metadata": {
    "collapsed": true
   },
   "outputs": [],
   "source": []
  }
 ],
 "metadata": {
  "kernelspec": {
   "display_name": "Python [conda env:PythonData]",
   "language": "python",
   "name": "conda-env-PythonData-py"
  },
  "language_info": {
   "codemirror_mode": {
    "name": "ipython",
    "version": 3
   },
   "file_extension": ".py",
   "mimetype": "text/x-python",
   "name": "python",
   "nbconvert_exporter": "python",
   "pygments_lexer": "ipython3",
   "version": "3.6.3"
  }
 },
 "nbformat": 4,
 "nbformat_minor": 2
}
